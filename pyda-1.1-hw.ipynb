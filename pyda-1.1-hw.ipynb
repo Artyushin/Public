{
 "cells": [
  {
   "cell_type": "markdown",
   "metadata": {},
   "source": [
    "**Задание 1**. Даны 2 строки: *long_phrase* и *short_phrase*. \n",
    "Напишите код, который проверяет действительно ли длинная фраза *long_phrase* длиннее короткой *short_phrase*. И выводит *True* или *False* в зависимости от результата сравнения."
   ]
  },
  {
   "cell_type": "code",
   "execution_count": 7,
   "metadata": {},
   "outputs": [],
   "source": [
    "long_phrase = 'Насколько проще было бы писать программы, если бы не заказчики'\n",
    "short_phrase = '640Кб должно хватить для любых задач. Билл Гейтс (по легенде)'\n"
   ]
  },
  {
   "cell_type": "code",
   "execution_count": 15,
   "metadata": {},
   "outputs": [
    {
     "data": {
      "text/plain": [
       "True"
      ]
     },
     "execution_count": 15,
     "metadata": {},
     "output_type": "execute_result"
    }
   ],
   "source": [
    "long = len(long_phrase)\n",
    "shot = len(short_phrase)\n",
    "long > shot"
   ]
  },
  {
   "cell_type": "markdown",
   "metadata": {},
   "source": [
    "**Задание 2**. Дано значение объема файла в байтах. Напишите перевод этого значения в мегабайты в формате: \"*Объем файла равен 213.68Mb*\""
   ]
  },
  {
   "cell_type": "code",
   "execution_count": 38,
   "metadata": {},
   "outputs": [
    {
     "name": "stdout",
     "output_type": "stream",
     "text": [
      "Введите значения в мегабайтах 1048576\n",
      "\"Объем файла равен 1.0 Mb\"\n"
     ]
    }
   ],
   "source": [
    "Vol = int(input('Введите значения в мегабайтах '))/1024/1024\n",
    "print('\"Объем файла равен', Vol, 'Mb\"')"
   ]
  },
  {
   "cell_type": "markdown",
   "metadata": {},
   "source": [
    "**Задание 3**. Разработать приложение для определения знака зодиака по дате рождения. Пример:\n",
    "\n",
    "Введите месяц: март\n",
    "\n",
    "Введите число: 6\n",
    "\n",
    "Вывод:\n",
    "Рыбы"
   ]
  },
  {
   "cell_type": "code",
   "execution_count": 37,
   "metadata": {},
   "outputs": [
    {
     "name": "stdout",
     "output_type": "stream",
     "text": [
      "Введите месяц: март\n",
      "Введите число: 6\n",
      "Рыбы\n"
     ]
    }
   ],
   "source": [
    "month = input('Введите месяц: ')\n",
    "date = int(input('Введите число: '))\n",
    "if (month == 'март' and date >= 21) or (month == 'апрель' and date <= 20):\n",
    "    print('Овен')\n",
    "elif (month == 'апрель' and date >= 21) or (month == 'май' and date <= 20):\n",
    "    print('Телец')\n",
    "elif (month == 'май' and date >= 21) or (month == 'июнь' and date <= 20):\n",
    "    print('Близнецы')\n",
    "elif (month == 'июнь' and date >= 21) or (month == 'июль' and date <= 22):\n",
    "    print('Рак')\n",
    "elif (month == 'июль' and date >= 23) or (month == 'август' and date <= 22):\n",
    "    print('Лев')\n",
    "elif (month == 'август' and date >= 23) or (month == 'сентябрь' and date <= 23):\n",
    "    print('Дева')\n",
    "elif (month == 'сентябрь' and date >= 24) or (month == 'октябрь' and date <= 23):\n",
    "    print('Весы')\n",
    "elif (month == 'октябрь' and date >= 24) or (month == 'ноябрь' and date <= 21):\n",
    "    print('Скорпион')\n",
    "elif (month == 'ноябрь' and date >= 22) or (month == 'декабрь' and date <= 21):\n",
    "    print('Стрелец')\n",
    "elif (month == 'декабрь' and date >= 22) or (month == 'январь' and date <= 21):\n",
    "    print('Козерог')\n",
    "elif (month == 'январь' and date >= 22) or (month == 'февраль' and date <= 18):\n",
    "    print('Водолей')\n",
    "elif (month == 'февраль' and date >= 19) or (month == 'март' and date <= 20):\n",
    "    print('Рыбы')\n",
    "else:\n",
    "    print('Не верно введены данные!')"
   ]
  },
  {
   "cell_type": "markdown",
   "metadata": {},
   "source": [
    "**Задание 4**. Нужно разработать приложение для финансового планирования.\n",
    "Приложение учитывает сколько уходит на ипотеку, \"на жизнь\" и сколько нужно отложить на пенсию.\n",
    "Пользователь вводит:\n",
    "- заработанную плату в месяц.\n",
    "- сколько процентов от ЗП уходит на ипотеку.\n",
    "- сколько процентов от ЗП уходит \"на жизнь\".\n",
    "- сколько раз приходит премия в год.\n",
    "\n",
    "Остальная часть заработанной платы откладывается на пенсию.\n",
    "\n",
    "Также пользователю приходит премия в размере зарплаты, от которой половина уходит на отпуск, а вторая половина откладывается.\n",
    "\n",
    "Программа должна учитывать сколько премий было в год.\n",
    "\n",
    "Нужно вывести сколько денег тратит пользователь на ипотеку и сколько он накопит за год.\n",
    "\n",
    "Пример:\n",
    "\n",
    "Введите заработанную плату в месяц: 100000\n",
    "\n",
    "Введите сколько процентов уходит на ипотеку: 30\n",
    "\n",
    "Введите сколько процентов уходит на жизнь: 50\n",
    "\n",
    "Введите количество премий за год: 2\n",
    "\n",
    "Вывод:\n",
    "На ипотеку было потрачено: 360000 рублей\n",
    "Было накоплено: 340000 рублей"
   ]
  },
  {
   "cell_type": "code",
   "execution_count": 43,
   "metadata": {},
   "outputs": [
    {
     "name": "stdout",
     "output_type": "stream",
     "text": [
      "Введите заработанную плату в месяц: 100000\n",
      "Введите сколько процентов уходит на ипотеку: 30\n",
      "Введите сколько процентов уходит на жизнь: 50\n",
      "Введите количество премий за год: 2\n",
      "На ипотеку было потрачено:  360000.0 рублей Было накоплено:  340000.0 рублей\n"
     ]
    }
   ],
   "source": [
    "wage = int(input('Введите заработанную плату в месяц: '))\n",
    "mortgage = int(input('Введите сколько процентов уходит на ипотеку: '))/100\n",
    "life = int(input('Введите сколько процентов уходит на жизнь: '))/100\n",
    "prize = int(input('Введите количество премий за год: '))\n",
    "if mortgage + life > 1:\n",
    "    print('Так не бывает!')\n",
    "else:\n",
    "    mortgage_total = round(wage*12*mortgage, 0)\n",
    "    pension = round(wage*(1 - (mortgage + life))*12 + wage*prize/2, 0)\n",
    "print('На ипотеку было потрачено: ', mortgage_total,'рублей', 'Было накоплено: ', pension,'рублей')"
   ]
  },
  {
   "cell_type": "code",
   "execution_count": null,
   "metadata": {},
   "outputs": [],
   "source": []
  }
 ],
 "metadata": {
  "kernelspec": {
   "display_name": "Python 3",
   "language": "python",
   "name": "python3"
  },
  "language_info": {
   "codemirror_mode": {
    "name": "ipython",
    "version": 3
   },
   "file_extension": ".py",
   "mimetype": "text/x-python",
   "name": "python",
   "nbconvert_exporter": "python",
   "pygments_lexer": "ipython3",
   "version": "3.7.3"
  }
 },
 "nbformat": 4,
 "nbformat_minor": 2
}
