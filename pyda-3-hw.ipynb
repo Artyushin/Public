{
 "cells": [
  {
   "cell_type": "markdown",
   "metadata": {},
   "source": [
    "## Задание 1"
   ]
  },
  {
   "cell_type": "markdown",
   "metadata": {},
   "source": [
    "Дан список вида:"
   ]
  },
  {
   "cell_type": "code",
   "execution_count": 106,
   "metadata": {},
   "outputs": [],
   "source": [
    "data = [\n",
    "    [13, 25, 23, 34],\n",
    "    [45, 32, 44, 47],\n",
    "    [12, 33, 23, 95],\n",
    "    [13, 53, 34, 35]\n",
    "]"
   ]
  },
  {
   "cell_type": "code",
   "execution_count": 118,
   "metadata": {},
   "outputs": [
    {
     "name": "stdout",
     "output_type": "stream",
     "text": [
      "103\n"
     ]
    }
   ],
   "source": [
    "i = sum_i = 0\n",
    "for items in data:\n",
    "    #print(items[i])\n",
    "    sum_i = sum_i + items[i]\n",
    "    i += 1\n",
    "print(a)"
   ]
  },
  {
   "cell_type": "markdown",
   "metadata": {},
   "source": [
    "Напишите функцию, которая возвращает сумму элементов на диагонали. Т. е. 13+32+23+35."
   ]
  },
  {
   "cell_type": "markdown",
   "metadata": {},
   "source": [
    "## Задание 2"
   ]
  },
  {
   "cell_type": "markdown",
   "metadata": {},
   "source": [
    "Дан список чисел, часть из которых имеют строковый тип или содержат буквы. Напишите функцию, которая возвращает сумму квадратов элементов, которые могут быть числами."
   ]
  },
  {
   "cell_type": "code",
   "execution_count": 90,
   "metadata": {},
   "outputs": [],
   "source": [
    "data = [1, '5', 'abc', 20, '2']"
   ]
  },
  {
   "cell_type": "code",
   "execution_count": 95,
   "metadata": {},
   "outputs": [],
   "source": [
    "def sumsqr():\n",
    "    data_int = []\n",
    "    for i in data:\n",
    "        try:   \n",
    "            data_int.append(int(i) ** 2)\n",
    "        except ValueError:\n",
    "            continue\n",
    "    return sum(data_int)"
   ]
  },
  {
   "cell_type": "code",
   "execution_count": 96,
   "metadata": {},
   "outputs": [
    {
     "data": {
      "text/plain": [
       "430"
      ]
     },
     "execution_count": 96,
     "metadata": {},
     "output_type": "execute_result"
    }
   ],
   "source": [
    "sumsqr()"
   ]
  },
  {
   "cell_type": "markdown",
   "metadata": {},
   "source": [
    "## Задание 3"
   ]
  },
  {
   "cell_type": "markdown",
   "metadata": {},
   "source": [
    "Напишите функцию, возвращающую сумму первых n чисел Фибоначчи."
   ]
  },
  {
   "cell_type": "code",
   "execution_count": 47,
   "metadata": {},
   "outputs": [],
   "source": [
    "n = 5"
   ]
  },
  {
   "cell_type": "code",
   "execution_count": 53,
   "metadata": {},
   "outputs": [],
   "source": [
    "def fib(n):\n",
    "    \"\"\"\n",
    "    Определение числа Фибоначчи\n",
    "    \"\"\"\n",
    "    if n in [1,2]:\n",
    "        return 1\n",
    "    else:\n",
    "        res = fib(n-1) + fib(n-2)\n",
    "    return res"
   ]
  },
  {
   "cell_type": "code",
   "execution_count": 54,
   "metadata": {},
   "outputs": [],
   "source": [
    "def sum_fib(n):\n",
    "    \"\"\"\n",
    "    Сумма первых чисел Фибоначчи на основе функции определения числа Фибоначчи \n",
    "    \"\"\"\n",
    "    res = [fib(i) for i in range(1, n+1)]\n",
    "    return sum(res)"
   ]
  },
  {
   "cell_type": "code",
   "execution_count": 55,
   "metadata": {},
   "outputs": [
    {
     "name": "stdout",
     "output_type": "stream",
     "text": [
      "Число элементов ряда фибоначи: 5\n",
      "12\n"
     ]
    }
   ],
   "source": [
    "n = int(input('Число элементов ряда фибоначи: '))\n",
    "print (sum_fib(n))"
   ]
  },
  {
   "cell_type": "markdown",
   "metadata": {},
   "source": [
    "## Задание 4"
   ]
  },
  {
   "cell_type": "markdown",
   "metadata": {},
   "source": [
    "Дан набор данных об обучении студентов на курсе программирования, который содержит: \n",
    "1) имя\n",
    "2) фамилию \n",
    "3) пол \n",
    "4) наличие у студента опыта в программировании \n",
    "5) набор оценок за домашние работы \n",
    "6) оценку за итоговую работу.\n",
    "\n",
    "Напишите программу, которая будет принимать команду от пользователя и возвращать соотвествующий результат.\n",
    "Список команд: \n",
    "1 - вывести на экран среднюю оценку за все ДЗ по группе и вывести на экран среднюю оценку за экзамен по группе;\n",
    "2 - вывести среднюю оценку за ДЗ и за экзамен по группе в разрезе пола студентов\n",
    "3 - вывести среднюю оценку за ДЗ и за экзамен в разрезе наличия опыта в программировании у студентов.\n",
    "\n",
    "Прогрмма должна быть полностью декомпозирована на функции (кроме объявления функций и вызова итоговой функции в реализации ничего быть не должно)."
   ]
  },
  {
   "cell_type": "code",
   "execution_count": 97,
   "metadata": {},
   "outputs": [],
   "source": [
    "students_list = [\n",
    "    {'name': 'Василий', 'surname': 'Теркин', 'sex': 'м', 'program_exp': True, 'grade': [8, 8, 9, 10, 9], 'exam': 9},\n",
    "    {'name': 'Мария', 'surname': 'Павлова', 'sex': 'ж', 'program_exp': True, 'grade': [7, 8, 9, 7, 9], 'exam': 8},\n",
    "    {'name': 'Ирина', 'surname': 'Андреева', 'sex': 'ж', 'program_exp': True, 'grade': [10, 9, 8, 10, 10], 'exam': 10},\n",
    "    {'name': 'Татьяна', 'surname': 'Сидорова', 'sex': 'ж', 'program_exp': True, 'grade': [7, 8, 8, 9, 8], 'exam': 8},\n",
    "    {'name': 'Иван', 'surname': 'Васильев', 'sex': 'ж', 'program_exp': True, 'grade': [9, 8, 9, 6, 9], 'exam': 10},\n",
    "    {'name': 'Роман', 'surname': 'Золотарев', 'sex': 'ж', 'program_exp': False, 'grade': [8, 9, 9, 6, 9], 'exam': 10}\n",
    "]"
   ]
  },
  {
   "cell_type": "code",
   "execution_count": 122,
   "metadata": {},
   "outputs": [
    {
     "name": "stdout",
     "output_type": "stream",
     "text": [
      "Введите номер команды: 3\n",
      "Средняя оценка за ДЗ (с опытом программирования): 8.5\n",
      "Средняя оценка за ДЗ (без опыта программирования): 8.2\n",
      "Средняя оценка за экзамены (с опытом программирования): 9.0\n",
      "Средняя оценка за экзамены (без опыта программирования): 10.0\n"
     ]
    }
   ],
   "source": [
    "def menu():\n",
    "    command = int(input(\"Введите номер команды: \"))\n",
    "    if command == 1:\n",
    "        average_on_homework_and_exam()\n",
    "    if command == 2:\n",
    "        average_on_homework_and_exam_by_gender()\n",
    "    if command == 3:\n",
    "        average_on_homework_and_exam_by_programming_skills()\n",
    "\n",
    "def average_on_homework_and_exam():\n",
    "    average_on_homework = []\n",
    "    average_on_exam = []\n",
    "    for students in students_list:\n",
    "        average_on_homework.append(sum(students['grade'])/len(students['grade']))\n",
    "    print(\"Средняя оценка за ДЗ:\", round(sum(average_on_homework)/len(students_list),1))\n",
    "    for students in students_list:\n",
    "        average_on_exam.append(students['exam'])\n",
    "    print(\"Средняя оценка за экзамены:\", round(sum(average_on_exam)/len(students_list),1))\n",
    "    \n",
    "def average_on_homework_and_exam_by_gender():\n",
    "    average_on_homework_men = []\n",
    "    average_on_homework_women = []\n",
    "    average_on_exam_men = []\n",
    "    average_on_exam_women = []\n",
    "    \n",
    "    for students in students_list:\n",
    "        if students['sex'] == 'м':\n",
    "            average_on_homework_men.append(sum(students['grade'])/len(students['grade']))\n",
    "        if students['sex'] == 'ж':\n",
    "            average_on_homework_women.append(sum(students['grade'])/len(students['grade']))\n",
    "    print(\"Средняя оценка за ДЗ (мужчины):\", round(sum(average_on_homework_men)/len(average_on_homework_men),1))\n",
    "    print(\"Средняя оценка за ДЗ (женщины):\", round(sum(average_on_homework_women)/len(average_on_homework_women),1))\n",
    "    \n",
    "    for students in students_list:\n",
    "        if students['sex'] == 'м':\n",
    "            average_on_exam_men.append(students['exam'])\n",
    "        if students['sex'] == 'ж':\n",
    "            average_on_exam_women.append(students['exam'])\n",
    "    print(\"Средняя оценка за экзамены (мужчины):\", round(sum(average_on_exam_men)/len(average_on_exam_men),1))\n",
    "    print(\"Средняя оценка за экзамены (женщины):\", round(sum(average_on_exam_women)/len(average_on_exam_women),1))\n",
    "    \n",
    "def average_on_homework_and_exam_by_programming_skills():\n",
    "    average_on_homework_exp = []\n",
    "    average_on_homework_noexp = []\n",
    "    average_on_exam_exp = []\n",
    "    average_on_exam_noexp = []\n",
    "    \n",
    "    for students in students_list:\n",
    "        if students['program_exp'] == True:\n",
    "            average_on_homework_exp.append(sum(students['grade'])/len(students['grade']))\n",
    "        if students['program_exp'] == False:\n",
    "            average_on_homework_noexp.append(sum(students['grade'])/len(students['grade']))\n",
    "    print(\"Средняя оценка за ДЗ (с опытом программирования):\", round(sum(average_on_homework_exp)/len(average_on_homework_exp),1))\n",
    "    print(\"Средняя оценка за ДЗ (без опыта программирования):\", round(sum(average_on_homework_noexp)/len(average_on_homework_noexp),1))\n",
    "    \n",
    "    for students in students_list:\n",
    "        if students['program_exp'] == True:\n",
    "            average_on_exam_exp.append(students['exam'])\n",
    "        if students['program_exp'] == False:\n",
    "            average_on_exam_noexp.append(students['exam'])\n",
    "    print(\"Средняя оценка за экзамены (с опытом программирования):\", round(sum(average_on_exam_exp)/len(average_on_exam_exp),1))\n",
    "    print(\"Средняя оценка за экзамены (без опыта программирования):\", round(sum(average_on_exam_noexp)/len(average_on_exam_noexp),1))\n",
    "    \n",
    "menu()"
   ]
  },
  {
   "cell_type": "code",
   "execution_count": null,
   "metadata": {},
   "outputs": [],
   "source": []
  }
 ],
 "metadata": {
  "kernelspec": {
   "display_name": "Python 3",
   "language": "python",
   "name": "python3"
  },
  "language_info": {
   "codemirror_mode": {
    "name": "ipython",
    "version": 3
   },
   "file_extension": ".py",
   "mimetype": "text/x-python",
   "name": "python",
   "nbconvert_exporter": "python",
   "pygments_lexer": "ipython3",
   "version": "3.7.3"
  }
 },
 "nbformat": 4,
 "nbformat_minor": 2
}
