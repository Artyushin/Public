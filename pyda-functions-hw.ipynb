{
 "cells": [
  {
   "cell_type": "markdown",
   "metadata": {},
   "source": [
    "## Задание 1"
   ]
  },
  {
   "cell_type": "markdown",
   "metadata": {},
   "source": [
    "Дан список вида:"
   ]
  },
  {
   "cell_type": "code",
   "execution_count": 1,
   "metadata": {},
   "outputs": [],
   "source": [
    "data = [\n",
    "    [13, 25, 23, 34],\n",
    "    [45, 32, 44, 47],\n",
    "    [12, 33, 23, 95],\n",
    "    [13, 53, 34, 35]\n",
    "]"
   ]
  },
  {
   "cell_type": "markdown",
   "metadata": {},
   "source": [
    "Напишите функцию, которая возвращает сумму элементов на диагонали. Т. е. 13+32+23+35.  \n",
    "Список может быть любой длины, но всегда является \"квадратным\" (количество элементов во вложенных списках равно их количеству)."
   ]
  },
  {
   "cell_type": "code",
   "execution_count": 3,
   "metadata": {},
   "outputs": [
    {
     "name": "stdout",
     "output_type": "stream",
     "text": [
      "103\n"
     ]
    }
   ],
   "source": [
    "i = sum_i = 0\n",
    "for items in data:\n",
    "    #print(items[i])\n",
    "    sum_i = sum_i + items[i]\n",
    "    i += 1\n",
    "print(sum_i)"
   ]
  },
  {
   "cell_type": "markdown",
   "metadata": {},
   "source": [
    "## Задание 2"
   ]
  },
  {
   "cell_type": "markdown",
   "metadata": {},
   "source": [
    "Напишите функцию, возвращающую сумму первых n чисел Фибоначчи (для этого вам может понадобится ознакомиться с рекурсией)."
   ]
  },
  {
   "cell_type": "code",
   "execution_count": 4,
   "metadata": {},
   "outputs": [],
   "source": [
    "n = 5"
   ]
  },
  {
   "cell_type": "code",
   "execution_count": 5,
   "metadata": {},
   "outputs": [],
   "source": [
    "def fib(n):\n",
    "    \"\"\"\n",
    "    Определение числа Фибоначчи\n",
    "    \"\"\"\n",
    "    if n in [1,2]:\n",
    "        return 1\n",
    "    else:\n",
    "        res = fib(n-1) + fib(n-2)\n",
    "    return res"
   ]
  },
  {
   "cell_type": "code",
   "execution_count": 6,
   "metadata": {},
   "outputs": [],
   "source": [
    "def sum_fib(n):\n",
    "    \"\"\"\n",
    "    Сумма первых чисел Фибоначчи на основе функции определения числа Фибоначчи \n",
    "    \"\"\"\n",
    "    res = [fib(i) for i in range(1, n+1)]\n",
    "    return sum(res)"
   ]
  },
  {
   "cell_type": "code",
   "execution_count": 7,
   "metadata": {},
   "outputs": [
    {
     "name": "stdout",
     "output_type": "stream",
     "text": [
      "Число элементов ряда фибоначи: 5\n",
      "12\n"
     ]
    }
   ],
   "source": [
    "n = int(input('Число элементов ряда фибоначи: '))\n",
    "print (sum_fib(n))"
   ]
  },
  {
   "cell_type": "markdown",
   "metadata": {},
   "source": [
    "## Задание 3\n"
   ]
  },
  {
   "cell_type": "markdown",
   "metadata": {},
   "source": [
    "Напишите функцию, преобразующую произвольный список вида ['2018-01-01', 'yandex', 'cpc', 100] (он может быть любой длины) в словарь {'2018-01-01': {'yandex': {'cpc': 100}}}"
   ]
  },
  {
   "cell_type": "code",
   "execution_count": 53,
   "metadata": {},
   "outputs": [
    {
     "data": {
      "text/plain": [
       "['2018-01-01', 'yandex', 'cpc', 100]"
      ]
     },
     "execution_count": 53,
     "metadata": {},
     "output_type": "execute_result"
    }
   ],
   "source": [
    "list_test = ['2018-01-01', 'yandex', 'cpc', 100]\n",
    "list_test"
   ]
  },
  {
   "cell_type": "code",
   "execution_count": 40,
   "metadata": {},
   "outputs": [
    {
     "name": "stdout",
     "output_type": "stream",
     "text": [
      "{'2018-01-01': {'yandex': {'cpc': 100}}}\n"
     ]
    }
   ],
   "source": [
    "#Отработка функции\n",
    "list_work = list_test\n",
    "n = len(list_work)\n",
    "for i in range(n - 1):\n",
    "    list_temp = [list_work[n-2], list_work[n-1]]\n",
    "    list_temp = [list_temp]\n",
    "    users_dict = dict(list_temp)\n",
    "    del(list_work[n-1])\n",
    "    list_work[n-2] = users_dict\n",
    "    n -= 1\n",
    "print(users_dict)"
   ]
  },
  {
   "cell_type": "code",
   "execution_count": 54,
   "metadata": {},
   "outputs": [],
   "source": [
    "def dictionary(list_test):\n",
    "    list_work = list_test\n",
    "    n = len(list_work)\n",
    "    for i in range(n - 1):\n",
    "        list_temp = [list_work[n-2], list_work[n-1]]\n",
    "        list_temp = [list_temp]\n",
    "        users_dict = dict(list_temp)\n",
    "        del(list_work[n-1])\n",
    "        list_work[n-2] = users_dict\n",
    "        n -= 1\n",
    "    return users_dict"
   ]
  },
  {
   "cell_type": "code",
   "execution_count": 55,
   "metadata": {},
   "outputs": [
    {
     "name": "stdout",
     "output_type": "stream",
     "text": [
      "{'2018-01-01': {'yandex': {'cpc': 100}}}\n"
     ]
    }
   ],
   "source": [
    "test = dictionary(list_test)\n",
    "print(test)"
   ]
  },
  {
   "cell_type": "markdown",
   "metadata": {},
   "source": [
    "## Задание 4"
   ]
  },
  {
   "cell_type": "markdown",
   "metadata": {},
   "source": [
    "Вы работаете секретарем и вам постоянно приходят различные документы. Вы должны быть очень внимательны, чтобы не потерять ни один документ. Каталог документов хранится в следующем виде:"
   ]
  },
  {
   "cell_type": "code",
   "execution_count": 175,
   "metadata": {},
   "outputs": [],
   "source": [
    "documents = [\n",
    "    {'type': 'passport', 'number': '2207 876234', 'name': 'Василий Гупкин'},\n",
    "    {'type': 'invoice', 'number': '11-2', 'name': 'Геннадий Покемонов'},\n",
    "    {'type': 'insurance', 'number': '10006', 'name': 'Аристарх Павлов'}\n",
    "]"
   ]
  },
  {
   "cell_type": "markdown",
   "metadata": {},
   "source": [
    "Перечень полок, на которых находятся документы хранится в следующем виде:"
   ]
  },
  {
   "cell_type": "code",
   "execution_count": 176,
   "metadata": {},
   "outputs": [],
   "source": [
    "directories = {\n",
    "    '1': ['2207 876234', '11-2', '5455 028765'],\n",
    "    '2': ['10006', '5400 028765', '5455 002299'],\n",
    "    '3': []\n",
    "}"
   ]
  },
  {
   "cell_type": "markdown",
   "metadata": {},
   "source": [
    "Необходимо реализовать пользовательские команды (внимание! это не название функций, которые должны быть выразительными, а команды, которые вводит пользователь, чтобы получить необходимый результат):\n",
    "  \n",
    "- p – people – команда, которая спросит номер документа и выведет имя человека, которому он принадлежит;  \n",
    "- s – shelf – команда, которая спросит номер документа и выведет номер полки, на которой он находится  \n",
    "Правильно обработайте ситуацию, когда пользователь будет вводить несуществующий документ.\n",
    "- l – list – команда, которая выведет список всех документов в формате   \n",
    "**passport \"2207 876234\" \"Василий Гупкин\"**  \n",
    "- as – add shelf – команда, которая спросит номер новой полки и добавит ее в перечень\n",
    "- d – delete – команда, которая спросит номер документа и удалит его из каталога и из перечня полок. Предусмотрите сценарий, когда пользователь вводит несуществующий документ;  \n",
    "- m – move – команда, которая спросит номер документа и целевую полку и переместит его с текущей полки на целевую. Корректно обработайте кейсы, когда пользователь пытается переместить несуществующий документ или переместить документ на несуществующую полку;  \n",
    "- a – add – команда, которая добавит новый документ в каталог и в перечень полок, спросив его номер, тип, имя владельца и номер полки, на котором он будет храниться."
   ]
  },
  {
   "cell_type": "code",
   "execution_count": 179,
   "metadata": {},
   "outputs": [
    {
     "name": "stdout",
     "output_type": "stream",
     "text": [
      "Введите команду: a\n",
      "Введите через запятую с пробелом: \n",
      "         номер документа, тип, имя владельца, номер полки хранения 123, паспорт, Олег Булыгин, 4\n",
      "Документ паспорт 123 на Олег Булыгин зарегистрирован!\n"
     ]
    }
   ],
   "source": [
    "#Так нечестно! В одном задание целых семь заданий)))\n",
    "\n",
    "def menu():\n",
    "    \"\"\"\n",
    "    Управляющие команды:\n",
    "    p (people) – команда, которая спросит номер документа и выведет имя человека, которому он принадлежит;\n",
    "    s (shelf) – команда, которая спросит номер документа и выведет номер полки, на которой он находится;\n",
    "    l (list) – команда, которая выведет список всех документов в формате: passport \"2207 876234\" \"Василий Гупкин\";\n",
    "    as (add shelf) – команда, которая спросит номер новой полки и добавит ее в перечень;\n",
    "    d (delete) команда, которая спросит номер документа и удалит его из каталога и из перечня полок;\n",
    "    m (move) – команда, которая спросит номер документа и целевую полку и переместит его с текущей полки на целевую;\n",
    "    a (add) – команда, которая добавит новый документ в каталог и в перечень полок.\n",
    "    \"\"\"\n",
    "    command = input('Введите команду: ')\n",
    "    if command == 'p':\n",
    "        com_people()\n",
    "    elif command == 's':\n",
    "        com_shelf()\n",
    "    elif command == 'l':\n",
    "        com_list()\n",
    "    elif command == 'as':\n",
    "        com_add_shelf()\n",
    "    elif command == 'd':\n",
    "        com_delete()\n",
    "    elif command == 'm':\n",
    "        com_move()\n",
    "    elif command == 'a':\n",
    "        com_add()\n",
    "    else:\n",
    "        print('Не верная команда!')\n",
    "\n",
    "def com_people():\n",
    "    doc_number = input('Введите номер документа: ')\n",
    "    doc_find = 0\n",
    "    for doc in documents:\n",
    "        if doc['number'] == doc_number:\n",
    "            print(doc['name'])\n",
    "            doc_find = 1\n",
    "            break\n",
    "    if doc_find != 1:\n",
    "        print('Документ не найден!')\n",
    "\n",
    "def com_shelf():\n",
    "    doc_number = input('Введите номер документа: ')\n",
    "    doc_find = 0\n",
    "    for key_shelf, doc_value in directories.items():\n",
    "        for i in doc_value:\n",
    "            if i == doc_number:\n",
    "                print(key_shelf)\n",
    "                doc_find = 1\n",
    "                break\n",
    "        if doc_find == 1:\n",
    "            break\n",
    "    if doc_find != 1:\n",
    "        print('Документ не найден!')\n",
    "        \n",
    "def com_list():\n",
    "    for doc in documents:\n",
    "        print(doc['type'], ' \"', doc['number'], '\" \"', doc['name'], '\"', sep='')\n",
    "\n",
    "def com_add_shelf():\n",
    "    shelf_number = input('Введите номер новой полки: ')\n",
    "    if shelf_number in directories:\n",
    "        print('Полка уже существует!')\n",
    "    else:\n",
    "        directories[shelf_number] = []\n",
    "        print('Полка', shelf_number, 'добавлена!')\n",
    "\n",
    "def com_delete():\n",
    "    doc_number = input('Введите номер документа: ')\n",
    "\n",
    "    for doc in documents:\n",
    "        if doc['number'] == doc_number:\n",
    "            #del doc['number']\n",
    "            doc['number'] = ''\n",
    "            print('Регистрация документа в каталоге удалена!')\n",
    "            break\n",
    "\n",
    "    for doc_value in directories.values():\n",
    "        for i in doc_value:\n",
    "            if i == doc_number:\n",
    "                doc_value.remove(doc_number)\n",
    "                print('Регистрация документа на полке удалена!')\n",
    "                break\n",
    "\n",
    "def com_move():\n",
    "    doc_number = input('Введите номер документа: ')\n",
    "    shelf_number = input('Введите номер полки: ')\n",
    "\n",
    "    doc_find = 0\n",
    "    if shelf_number in directories:\n",
    "        for doc_value in directories.values():\n",
    "            for i in doc_value:\n",
    "                if i == doc_number:\n",
    "                    doc_value.remove(doc_number)\n",
    "                    directories[shelf_number].append(doc_number)\n",
    "                    print('Документ', doc_number, 'перемещен на полку', shelf_number)\n",
    "                    doc_find = 1\n",
    "                    break\n",
    "            if doc_find == 1:\n",
    "                break\n",
    "        if doc_find != 1:\n",
    "            print('Документ не найден!')\n",
    "    else:\n",
    "        print('Полка', shelf_number, 'не существует!')\n",
    "\n",
    "def com_add():\n",
    "    try:\n",
    "        doc_number, type_value, name_value, shelf_number = input('Введите через запятую с пробелом: \\n \\\n",
    "        номер документа, тип, имя владельца, номер полки хранения ').split(', ')\n",
    "        str(doc_number)\n",
    "        str(type_value)\n",
    "        str(name_value)\n",
    "        str(shelf_number)\n",
    "        if shelf_number in directories:\n",
    "            directories[shelf_number].append(doc_number)\n",
    "            documents.append({'type': type_value, 'number': doc_number, 'name': name_value})\n",
    "            print('Документ', type_value, doc_number, 'на', name_value, 'зарегистрирован!')\n",
    "        else:\n",
    "            print('Полка', shelf_number, 'не существует!')\n",
    "    except ValueError:\n",
    "        print('Необходимо ввести четыре значения')\n",
    "\n",
    "menu()"
   ]
  },
  {
   "cell_type": "code",
   "execution_count": 180,
   "metadata": {},
   "outputs": [
    {
     "data": {
      "text/plain": [
       "[{'type': 'passport', 'number': '2207 876234', 'name': 'Василий Гупкин'},\n",
       " {'type': 'invoice', 'number': '11-2', 'name': 'Геннадий Покемонов'},\n",
       " {'type': 'insurance', 'number': '10006', 'name': 'Аристарх Павлов'},\n",
       " {'type': 'паспорт', 'number': '123', 'name': 'Олег Булыгин'}]"
      ]
     },
     "execution_count": 180,
     "metadata": {},
     "output_type": "execute_result"
    }
   ],
   "source": [
    "documents"
   ]
  },
  {
   "cell_type": "code",
   "execution_count": 181,
   "metadata": {},
   "outputs": [
    {
     "data": {
      "text/plain": [
       "{'1': ['2207 876234', '5455 028765'],\n",
       " '2': ['10006', '5400 028765', '5455 002299'],\n",
       " '3': ['11-2'],\n",
       " '4': ['123']}"
      ]
     },
     "execution_count": 181,
     "metadata": {},
     "output_type": "execute_result"
    }
   ],
   "source": [
    "directories"
   ]
  },
  {
   "cell_type": "code",
   "execution_count": 154,
   "metadata": {},
   "outputs": [
    {
     "name": "stdout",
     "output_type": "stream",
     "text": [
      "Help on function menu in module __main__:\n",
      "\n",
      "menu()\n",
      "    Управляющие команды:\n",
      "    p (people) – команда, которая спросит номер документа и выведет имя человека, которому он принадлежит;\n",
      "    s (shelf) – команда, которая спросит номер документа и выведет номер полки, на которой он находится;\n",
      "    l (list) – команда, которая выведет список всех документов в формате: passport \"2207 876234\" \"Василий Гупкин\";\n",
      "    as (add shelf) – команда, которая спросит номер новой полки и добавит ее в перечень;\n",
      "    d (delete) команда, которая спросит номер документа и удалит его из каталога и из перечня полок;\n",
      "    m (move) – команда, которая спросит номер документа и целевую полку и переместит его с текущей полки на целевую;\n",
      "    a (add) – команда, которая добавит новый документ в каталог и в перечень полок.\n",
      "\n"
     ]
    }
   ],
   "source": [
    "help(menu)"
   ]
  }
 ],
 "metadata": {
  "kernelspec": {
   "display_name": "Python 3",
   "language": "python",
   "name": "python3"
  },
  "language_info": {
   "codemirror_mode": {
    "name": "ipython",
    "version": 3
   },
   "file_extension": ".py",
   "mimetype": "text/x-python",
   "name": "python",
   "nbconvert_exporter": "python",
   "pygments_lexer": "ipython3",
   "version": "3.7.3"
  }
 },
 "nbformat": 4,
 "nbformat_minor": 2
}
