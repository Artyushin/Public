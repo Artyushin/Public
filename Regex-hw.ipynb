{
 "cells": [
  {
   "cell_type": "markdown",
   "metadata": {},
   "source": [
    "# Домашнее задание к лекции \"Регулярные выражения\"\n",
    "Для зачета необходимо выполнить 4 задания.  \n",
    "Для зачета с отличием – все 4 задания!"
   ]
  },
  {
   "cell_type": "code",
   "execution_count": 72,
   "metadata": {},
   "outputs": [],
   "source": [
    "import re"
   ]
  },
  {
   "cell_type": "markdown",
   "metadata": {},
   "source": [
    "## Задание 1"
   ]
  },
  {
   "cell_type": "markdown",
   "metadata": {},
   "source": [
    "Напишите функцию, которая принимает на вход строку и проверяет является ли она валидным транспортным номером. Если да, то функция должна возвращать отдельно номер и регион."
   ]
  },
  {
   "cell_type": "code",
   "execution_count": 93,
   "metadata": {},
   "outputs": [],
   "source": [
    "str_number = 'а111бв 177' #правильный номер - шаблон (возможны пробелы)"
   ]
  },
  {
   "cell_type": "code",
   "execution_count": 91,
   "metadata": {},
   "outputs": [],
   "source": [
    "str_number = '111бв177' #неправильный номер - тест"
   ]
  },
  {
   "cell_type": "code",
   "execution_count": 96,
   "metadata": {},
   "outputs": [
    {
     "name": "stdout",
     "output_type": "stream",
     "text": [
      "Номер: а111бв, регион: 177\n"
     ]
    },
    {
     "data": {
      "text/plain": [
       "('а111бв', '177')"
      ]
     },
     "execution_count": 96,
     "metadata": {},
     "output_type": "execute_result"
    }
   ],
   "source": [
    "def anumber(str_):\n",
    "    clear_text = re.sub('[ ]', '', str_)\n",
    "    if len(clear_text) == 9:\n",
    "        ok_number = re.findall('([а-яА-Я]{1}\\d{3}[а-яА-Я]{2})(\\d{3})', clear_text)\n",
    "#         print(f'Номер: {ok_number[0][0]}, регион: {ok_number[0][1]}')\n",
    "        return ok_number[0]\n",
    "\n",
    "anumber(str_number)"
   ]
  },
  {
   "cell_type": "markdown",
   "metadata": {},
   "source": [
    "## Задание 2"
   ]
  },
  {
   "cell_type": "markdown",
   "metadata": {},
   "source": [
    "Напишите функцию, которая проверяет e-mail адрес на валидность по стандарту RFC822: http://www.w3.org/Protocols/rfc822/. Для этого постарайтесь написать (в крайнем случае найти) самый полный шаблон для проверки e-mail адресов через регулярное выражение. Разберитесь и напишите примеры, какие ваш шаблон может не охватить."
   ]
  },
  {
   "cell_type": "code",
   "execution_count": 201,
   "metadata": {},
   "outputs": [],
   "source": [
    "text_email = 'Найти e-mail artyushin@inbox.ru в тексте!'"
   ]
  },
  {
   "cell_type": "code",
   "execution_count": 199,
   "metadata": {},
   "outputs": [],
   "source": [
    "text_email = 'artyushin@inbox'"
   ]
  },
  {
   "cell_type": "code",
   "execution_count": 203,
   "metadata": {},
   "outputs": [
    {
     "data": {
      "text/plain": [
       "'artyushin@inbox.ru'"
      ]
     },
     "execution_count": 203,
     "metadata": {},
     "output_type": "execute_result"
    }
   ],
   "source": [
    "#Предусмотрен вариант для доменов на кирилице, но такой почты, если честно, не встречал!\n",
    "\n",
    "def findmail(e_mail):\n",
    "    find_email = re.findall('\\w+@[a-zA-Z_а-яёА-ЯЁ]+\\.[a-zA-Zа-яёА-ЯЁ]{2,6}', e_mail)\n",
    "    if find_email:\n",
    "        return find_email[0]\n",
    "#     else:\n",
    "#         print('e-mail не найден!')\n",
    "\n",
    "findmail(text_email)"
   ]
  },
  {
   "cell_type": "markdown",
   "metadata": {},
   "source": [
    "## Задание 3\n",
    "Напишите функцию, которая будет удалять все последовательные повторы слов из заданной строки."
   ]
  },
  {
   "cell_type": "code",
   "execution_count": 175,
   "metadata": {},
   "outputs": [],
   "source": [
    "test_text = 'Напишите функцию, которая будет удалять все последовательные повторы слов слов из заданной строки строки.'"
   ]
  },
  {
   "cell_type": "code",
   "execution_count": 176,
   "metadata": {},
   "outputs": [
    {
     "data": {
      "text/plain": [
       "'Напишите функцию, которая будет удалять все последовательные повторы слов из заданной строки.'"
      ]
     },
     "execution_count": 176,
     "metadata": {},
     "output_type": "execute_result"
    }
   ],
   "source": [
    "def doubleword(text):\n",
    "    double_ = re.findall('\\\\b(\\\\w+)(?:\\\\s+\\\\1\\\\b)+', text)\n",
    "    text_list = re.findall('[\\w\\.\\,]+', text)\n",
    "    for i in double_:\n",
    "        if i in text_list:\n",
    "            text_list.remove(i)\n",
    "    clear_text = ' '.join(text_list)\n",
    "    return clear_text\n",
    "\n",
    "doubleword(test_text)"
   ]
  },
  {
   "cell_type": "markdown",
   "metadata": {},
   "source": [
    "## Задание 4\n",
    "Напишите функцию, которая будет проверять номер сотового телефона на валидность, если он валиден, то переводить его в формат:   \n",
    "+7(xxx)-xxx-xx-xx  \n",
    "Постарайтесь предусмотреть как можно больше адекватных форматов изначального ввода номера.\n",
    "Примеры правильных и неправильных форматов:\n",
    "- +7 955 555-55-55;\n",
    "- 955555555;\n",
    "- 8(955)555-55-55;\n",
    "- +7 955 555 55 55;\n",
    "- 7(955) 555-55-55;\n",
    "- +7 955+555+55+55."
   ]
  },
  {
   "cell_type": "code",
   "execution_count": 189,
   "metadata": {},
   "outputs": [],
   "source": [
    "str_num = '+7 955 123-45-67'"
   ]
  },
  {
   "cell_type": "code",
   "execution_count": 193,
   "metadata": {},
   "outputs": [
    {
     "data": {
      "text/plain": [
       "'+7(955)-123-45-67'"
      ]
     },
     "execution_count": 193,
     "metadata": {},
     "output_type": "execute_result"
    }
   ],
   "source": [
    "def telnumber(str_n):\n",
    "    clear_num = re.findall('\\d', re.sub('[(]|[)]|[+]|[- ]', '', str_n))\n",
    "    if re.match('[+7]{2}|[8]{1}', str_n) and len(clear_num) == 11:\n",
    "        kod = ''.join(clear_num[1:4])\n",
    "        num = ''.join(clear_num[5:11])\n",
    "        val_num = f\"+7({''.join(clear_num[1:4])})-{''.join(clear_num[4:7])}-{''.join(clear_num[7:9])}-{''.join(clear_num[9:])}\"\n",
    "        return val_num\n",
    "    else:\n",
    "        return 'not number'\n",
    "\n",
    "telnumber(str_num)"
   ]
  },
  {
   "cell_type": "markdown",
   "metadata": {},
   "source": [
    "Проверка по списку:"
   ]
  },
  {
   "cell_type": "code",
   "execution_count": 195,
   "metadata": {},
   "outputs": [
    {
     "name": "stdout",
     "output_type": "stream",
     "text": [
      "+7(955)-555-55-55\n",
      "not number\n",
      "+7(955)-555-55-55\n",
      "+7(955)-555-55-55\n",
      "+7(955)-555-55-55\n",
      "not number\n",
      "+7(955)-555-55-55\n"
     ]
    }
   ],
   "source": [
    "str_num_len = ['+7 955 555-55-55', '955555555', '8(955)555-55-55',\\\n",
    "               '8(955)555-55-55', '+7 955 555 55 55', '7(955) 555-55-55', '+7 955+555+55+55']\n",
    "for i in str_num_len:\n",
    "    print(telnumber(i))"
   ]
  }
 ],
 "metadata": {
  "kernelspec": {
   "display_name": "Python 3",
   "language": "python",
   "name": "python3"
  },
  "language_info": {
   "codemirror_mode": {
    "name": "ipython",
    "version": 3
   },
   "file_extension": ".py",
   "mimetype": "text/x-python",
   "name": "python",
   "nbconvert_exporter": "python",
   "pygments_lexer": "ipython3",
   "version": "3.7.3"
  }
 },
 "nbformat": 4,
 "nbformat_minor": 2
}
