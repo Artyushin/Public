{
 "cells": [
  {
   "cell_type": "markdown",
   "metadata": {},
   "source": [
    "# Домашнее задание\n",
    "1. Переведите содержимое файла purchase_log.txt в словарь purchases вида:\n",
    "```python\n",
    "{'1840e0b9d4': 'Продукты', ...}\n",
    "```\n",
    "\n",
    "2. Для каждого user_id в файле visit_log.csv добавьте третий столбец с категорией покупки (если покупка была).\n",
    "\n",
    "3. Запишите в файл funnel.csv визиты из файла visit_log.csv, в которых были покупки с указанием категории.\n",
    "\n",
    "Учтите условия на данные:\n",
    "- содержимое purchase_log.txt помещается в оперативную память компьютера\n",
    "- содержимое visit_log.csv - нет; используйте только построчную обработку этого файла"
   ]
  },
  {
   "cell_type": "code",
   "execution_count": 4,
   "metadata": {},
   "outputs": [],
   "source": [
    "import json"
   ]
  },
  {
   "cell_type": "code",
   "execution_count": 68,
   "metadata": {
    "scrolled": true
   },
   "outputs": [],
   "source": [
    "# i = 0\n",
    "staff_dict = {}\n",
    "with open('purchase_log.txt', 'r', encoding='utf-8') as f:\n",
    "    for line in f:\n",
    "        line = line.strip()\n",
    "        dict_ = json.loads(line)\n",
    "        dict_ = list(dict_.values())\n",
    "        staff_dict.setdefault(dict_[0], dict_[1])\n",
    "#         i += 1\n",
    "#         if i > 50:\n",
    "#             del(staff_dict['user_id'])\n",
    "#             print(staff_dict)\n",
    "#             break"
   ]
  },
  {
   "cell_type": "code",
   "execution_count": 69,
   "metadata": {},
   "outputs": [],
   "source": [
    "# i = 0\n",
    "with open ('visit_log.csv', 'r') as f:\n",
    "    content = 'user_id,source,category\\n'\n",
    "    \n",
    "    with open ('funnel.csv','w') as funnel:\n",
    "        for line in f:\n",
    "            content = line.replace(\"\\n\", \"\").split(',')\n",
    "            purchase = staff_dict.get(content[0], 'not_purchase')\n",
    "            if purchase != 'not_purchase':\n",
    "                content.append(purchase)\n",
    "                content = ','.join(content) + '\\n'\n",
    "                funnel.write(content)\n",
    "#                 print(content)\n",
    "            f.readline()            \n",
    "            \n",
    "#             i += 1\n",
    "#             if i > 50:\n",
    "#                 break"
   ]
  },
  {
   "cell_type": "code",
   "execution_count": 73,
   "metadata": {},
   "outputs": [],
   "source": [
    "test = open('funnel.csv', 'r')"
   ]
  },
  {
   "cell_type": "code",
   "execution_count": 74,
   "metadata": {},
   "outputs": [
    {
     "name": "stdout",
     "output_type": "stream",
     "text": [
      "user_id,source,category\n",
      "\n",
      "1840e0b9d4,other,Продукты\n",
      "\n",
      "2824221f38,email,Продукты\n",
      "\n",
      "373a6055fe,other,Бытовая техника\n",
      "\n",
      "704474fa2d,other,Продукты\n",
      "\n",
      "5da0dedf13,context,Досуг\n",
      "\n",
      "79843a685a,context,Продукты\n",
      "\n",
      "e8447c40e2,email,Досуг\n",
      "\n",
      "98d290be27,other,Электроника\n",
      "\n",
      "3fff459bda,other,Электроника\n",
      "\n",
      "fa0079a5a8,other,Досуг\n",
      "\n"
     ]
    }
   ],
   "source": [
    "i = 0\n",
    "for line in test:\n",
    "    print(line)\n",
    "    i += 1\n",
    "    if i > 10:\n",
    "        break"
   ]
  }
 ],
 "metadata": {
  "kernelspec": {
   "display_name": "Python 3",
   "language": "python",
   "name": "python3"
  },
  "language_info": {
   "codemirror_mode": {
    "name": "ipython",
    "version": 3
   },
   "file_extension": ".py",
   "mimetype": "text/x-python",
   "name": "python",
   "nbconvert_exporter": "python",
   "pygments_lexer": "ipython3",
   "version": "3.7.3"
  }
 },
 "nbformat": 4,
 "nbformat_minor": 2
}
